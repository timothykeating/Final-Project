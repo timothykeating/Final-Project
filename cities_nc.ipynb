{
 "cells": [
  {
   "cell_type": "code",
   "execution_count": 15,
   "id": "3be47d5d",
   "metadata": {},
   "outputs": [],
   "source": [
    "# Import the dependencies.\n",
    "import pandas as pd\n",
    "import matplotlib.pyplot as plt\n",
    "import numpy as np\n",
    "# Import the datetime module from the datetime library.\n",
    "from citipy import citipy\n",
    "\n",
    "from datetime import datetime \n",
    "import requests\n",
    "\n",
    "# Import the API key.\n",
    "from config import weather_api_key \n",
    "# Import linear regression from the SciPy stats module.\n",
    "from scipy.stats import linregress "
   ]
  },
  {
   "cell_type": "code",
   "execution_count": 20,
   "id": "ae1a94f7",
   "metadata": {},
   "outputs": [
    {
     "data": {
      "text/plain": [
       "<zip at 0x2946aa41e80>"
      ]
     },
     "execution_count": 20,
     "metadata": {},
     "output_type": "execute_result"
    }
   ],
   "source": [
    "# Create a set of random latitude and longitude combinations.\n",
    "lats = np.random.uniform(low=-90.000, high=35.782, size=100)\n",
    "lngs = np.random.uniform(low=-180.000, high=180.000, size=100)\n",
    "lat_lngs = zip(lats, lngs)\n",
    "lat_lngs"
   ]
  },
  {
   "cell_type": "code",
   "execution_count": 21,
   "id": "df4210b9",
   "metadata": {},
   "outputs": [],
   "source": [
    "# Add the latitudes and longitudes to a list.\n",
    "coordinates = list(lat_lngs) "
   ]
  },
  {
   "cell_type": "code",
   "execution_count": 22,
   "id": "759c66f7",
   "metadata": {},
   "outputs": [
    {
     "data": {
      "text/plain": [
       "67"
      ]
     },
     "execution_count": 22,
     "metadata": {},
     "output_type": "execute_result"
    }
   ],
   "source": [
    "# Create a list for holding the cities.\n",
    "cities = []\n",
    "# Identify the nearest city for each latitude and longitude combination.\n",
    "for coordinate in coordinates:\n",
    "    city = citipy.nearest_city(coordinate[0], coordinate[1]).city_name\n",
    "\n",
    "    # If the city is unique, then we will add it to the cities list.\n",
    "    if city not in cities:\n",
    "        cities.append(city)\n",
    "# Print the city count to confirm sufficient count.\n",
    "len(cities) "
   ]
  },
  {
   "cell_type": "code",
   "execution_count": 23,
   "id": "aa6578e2",
   "metadata": {},
   "outputs": [],
   "source": [
    "# Starting URL for Weather Map API Call.\n",
    "url = \"http://api.openweathermap.org/data/2.5/weather?units=Imperial&APPID=\" + weather_api_key "
   ]
  },
  {
   "cell_type": "code",
   "execution_count": 24,
   "id": "82a48de1",
   "metadata": {},
   "outputs": [
    {
     "name": "stdout",
     "output_type": "stream",
     "text": [
      "Beginning Data Retrieval     \n",
      "-----------------------------\n"
     ]
    }
   ],
   "source": [
    "# Create an empty list to hold the weather data.\n",
    "city_data = []\n",
    "# Print the beginning of the logging.\n",
    "print(\"Beginning Data Retrieval     \")\n",
    "print(\"-----------------------------\")\n",
    "\n",
    "# Create counters.\n",
    "record_count = 1\n",
    "set_count = 1 "
   ]
  },
  {
   "cell_type": "code",
   "execution_count": 25,
   "id": "902f2725",
   "metadata": {},
   "outputs": [],
   "source": [
    "# Loop through all the cities in our list.\n",
    "for i in range(len(cities)):\n",
    "\n",
    "    # Group cities in sets of 50 for logging purposes.\n",
    "    if (i % 5 == 0 and i >= 5):\n",
    "        set_count += 1\n",
    "        record_count = 1\n",
    "    # Create endpoint URL with each city.\n",
    "    city_url = url + \"&q=\" + cities[i]  "
   ]
  },
  {
   "cell_type": "code",
   "execution_count": 26,
   "id": "1b27791a",
   "metadata": {},
   "outputs": [
    {
     "name": "stdout",
     "output_type": "stream",
     "text": [
      "Processing Record 1 of Set 14 | hobart\n",
      "Processing Record 2 of Set 14 | catamarca\n",
      "Processing Record 3 of Set 14 | khorramshahr\n",
      "Processing Record 4 of Set 14 | kavaratti\n",
      "Processing Record 5 of Set 14 | caravelas\n",
      "Processing Record 1 of Set 15 | punta arenas\n",
      "Processing Record 2 of Set 15 | ushuaia\n",
      "Processing Record 3 of Set 15 | busselton\n",
      "Processing Record 4 of Set 15 | necochea\n",
      "Processing Record 5 of Set 15 | albany\n",
      "Processing Record 1 of Set 16 | avarua\n",
      "Processing Record 2 of Set 16 | tsihombe\n",
      "City not found. Skipping...\n",
      "Processing Record 3 of Set 16 | jamestown\n",
      "Processing Record 4 of Set 16 | kruisfontein\n",
      "Processing Record 5 of Set 16 | new norfolk\n",
      "Processing Record 1 of Set 17 | puerto ayora\n",
      "Processing Record 2 of Set 17 | san patricio\n",
      "Processing Record 3 of Set 17 | carnarvon\n",
      "Processing Record 4 of Set 17 | flinders\n",
      "Processing Record 5 of Set 17 | rio grande\n",
      "Processing Record 1 of Set 18 | bambous virieux\n",
      "Processing Record 2 of Set 18 | east london\n",
      "Processing Record 3 of Set 18 | taolanaro\n",
      "City not found. Skipping...\n",
      "Processing Record 4 of Set 18 | broome\n",
      "Processing Record 5 of Set 18 | katsuura\n",
      "Processing Record 1 of Set 19 | alofi\n",
      "Processing Record 2 of Set 19 | mataura\n",
      "Processing Record 3 of Set 19 | airai\n",
      "Processing Record 4 of Set 19 | port blair\n",
      "Processing Record 5 of Set 19 | isangel\n",
      "Processing Record 1 of Set 20 | umm lajj\n",
      "Processing Record 2 of Set 20 | hobyo\n",
      "Processing Record 3 of Set 20 | coahuayana\n",
      "Processing Record 4 of Set 20 | rikitea\n",
      "Processing Record 5 of Set 20 | saint-philippe\n",
      "Processing Record 1 of Set 21 | saleaula\n",
      "City not found. Skipping...\n",
      "Processing Record 2 of Set 21 | kapaa\n",
      "Processing Record 3 of Set 21 | hilo\n",
      "Processing Record 4 of Set 21 | bengkulu\n",
      "Processing Record 5 of Set 21 | anlu\n",
      "Processing Record 1 of Set 22 | kampot\n",
      "Processing Record 2 of Set 22 | nador\n",
      "Processing Record 3 of Set 22 | arraial do cabo\n",
      "Processing Record 4 of Set 22 | bredasdorp\n",
      "Processing Record 5 of Set 22 | birao\n",
      "Processing Record 1 of Set 23 | makung\n",
      "City not found. Skipping...\n",
      "Processing Record 2 of Set 23 | bluff\n",
      "Processing Record 3 of Set 23 | malanje\n",
      "Processing Record 4 of Set 23 | alamogordo\n",
      "Processing Record 5 of Set 23 | ahipara\n",
      "Processing Record 1 of Set 24 | pauini\n",
      "Processing Record 2 of Set 24 | sulangan\n",
      "Processing Record 3 of Set 24 | lianran\n",
      "Processing Record 4 of Set 24 | hermanus\n",
      "Processing Record 5 of Set 24 | san lorenzo\n",
      "Processing Record 1 of Set 25 | qidong\n",
      "Processing Record 2 of Set 25 | ovalle\n",
      "Processing Record 3 of Set 25 | hithadhoo\n",
      "Processing Record 4 of Set 25 | samusu\n",
      "City not found. Skipping...\n",
      "Processing Record 5 of Set 25 | gizo\n",
      "Processing Record 1 of Set 26 | saint george\n",
      "Processing Record 2 of Set 26 | aracatuba\n",
      "Processing Record 3 of Set 26 | tucuman\n",
      "Processing Record 4 of Set 26 | mongo\n",
      "Processing Record 5 of Set 26 | nikolskoye\n",
      "Processing Record 1 of Set 27 | salalah\n",
      "Processing Record 2 of Set 27 | taitung\n",
      "-----------------------------\n",
      "Data Retrieval Complete      \n",
      "-----------------------------\n"
     ]
    }
   ],
   "source": [
    "# Loop through all the cities in the list.\n",
    "for i, city in enumerate(cities):\n",
    "\n",
    "    # Group cities in sets of 50 for logging purposes.\n",
    "    if (i % 5 == 0 and i >= 5):\n",
    "        set_count += 1\n",
    "        record_count = 1\n",
    "    # Create endpoint URL with each city.\n",
    "    city_url = url + \"&q=\" + city.replace(\" \",\"+\")\n",
    "\n",
    "    # Log the URL, record, and set numbers and the city.\n",
    "    print(f\"Processing Record {record_count} of Set {set_count} | {city}\")\n",
    "    # Add 1 to the record count.\n",
    "    record_count += 1\n",
    "    # Run an API request for each of the cities.\n",
    "    # Run an API request for each of the cities.\n",
    "    try:\n",
    "        # Parse the JSON and retrieve data.\n",
    "        city_weather = requests.get(city_url).json()\n",
    "        # Parse out the needed data.\n",
    "        city_lat = city_weather[\"coord\"][\"lat\"]\n",
    "        city_lng = city_weather[\"coord\"][\"lon\"]\n",
    "        \n",
    "        # Convert the date to ISO standard.\n",
    "        city_date = datetime.utcfromtimestamp(city_weather[\"dt\"]).strftime('%Y-%m-%d %H:%M:%S')\n",
    "        # Append the city information into city_data list.\n",
    "        city_data.append({\"City\": city.title(),\n",
    "                          \"Lat\": city_lat,\n",
    "                          \"Lng\": city_lng,\n",
    "                          }) \n",
    "        \n",
    "\n",
    "# If an error is experienced, skip the city.\n",
    "    except:\n",
    "        print(\"City not found. Skipping...\")\n",
    "        pass\n",
    "\n",
    "# Indicate that Data Loading is complete.\n",
    "print(\"-----------------------------\")\n",
    "print(\"Data Retrieval Complete      \")\n",
    "print(\"-----------------------------\")\n",
    "\n",
    "# Indicate that Data Loading is complete."
   ]
  },
  {
   "cell_type": "code",
   "execution_count": 27,
   "id": "f38165c6",
   "metadata": {},
   "outputs": [
    {
     "data": {
      "text/plain": [
       "[{'City': 'Hobart', 'Lat': -42.8794, 'Lng': 147.3294},\n",
       " {'City': 'Catamarca', 'Lat': -28.4696, 'Lng': -65.7852},\n",
       " {'City': 'Khorramshahr', 'Lat': 30.4397, 'Lng': 48.1664},\n",
       " {'City': 'Kavaratti', 'Lat': 10.5669, 'Lng': 72.642},\n",
       " {'City': 'Caravelas', 'Lat': -17.7125, 'Lng': -39.2481},\n",
       " {'City': 'Punta Arenas', 'Lat': -53.15, 'Lng': -70.9167},\n",
       " {'City': 'Ushuaia', 'Lat': -54.8, 'Lng': -68.3},\n",
       " {'City': 'Busselton', 'Lat': -33.65, 'Lng': 115.3333},\n",
       " {'City': 'Necochea', 'Lat': -38.5473, 'Lng': -58.7368},\n",
       " {'City': 'Albany', 'Lat': 42.6001, 'Lng': -73.9662},\n",
       " {'City': 'Avarua', 'Lat': -21.2078, 'Lng': -159.775},\n",
       " {'City': 'Jamestown', 'Lat': 42.097, 'Lng': -79.2353},\n",
       " {'City': 'Kruisfontein', 'Lat': -34.0033, 'Lng': 24.7314},\n",
       " {'City': 'New Norfolk', 'Lat': -42.7826, 'Lng': 147.0587},\n",
       " {'City': 'Puerto Ayora', 'Lat': -0.7393, 'Lng': -90.3518},\n",
       " {'City': 'San Patricio', 'Lat': 28.017, 'Lng': -97.5169},\n",
       " {'City': 'Carnarvon', 'Lat': -24.8667, 'Lng': 113.6333},\n",
       " {'City': 'Flinders', 'Lat': -34.5833, 'Lng': 150.8552},\n",
       " {'City': 'Rio Grande', 'Lat': -32.035, 'Lng': -52.0986},\n",
       " {'City': 'Bambous Virieux', 'Lat': -20.3428, 'Lng': 57.7575},\n",
       " {'City': 'East London', 'Lat': -33.0153, 'Lng': 27.9116},\n",
       " {'City': 'Broome', 'Lat': 42.2506, 'Lng': -75.833},\n",
       " {'City': 'Katsuura', 'Lat': 35.1333, 'Lng': 140.3},\n",
       " {'City': 'Alofi', 'Lat': -19.0595, 'Lng': -169.9187},\n",
       " {'City': 'Mataura', 'Lat': -46.1927, 'Lng': 168.8643},\n",
       " {'City': 'Airai', 'Lat': -8.9266, 'Lng': 125.4092},\n",
       " {'City': 'Port Blair', 'Lat': 11.6667, 'Lng': 92.75},\n",
       " {'City': 'Isangel', 'Lat': -19.55, 'Lng': 169.2667},\n",
       " {'City': 'Umm Lajj', 'Lat': 25.0213, 'Lng': 37.2685},\n",
       " {'City': 'Hobyo', 'Lat': 5.3505, 'Lng': 48.5268},\n",
       " {'City': 'Coahuayana', 'Lat': 18.7333, 'Lng': -103.6833},\n",
       " {'City': 'Rikitea', 'Lat': -23.1203, 'Lng': -134.9692},\n",
       " {'City': 'Saint-Philippe', 'Lat': -21.3585, 'Lng': 55.7679},\n",
       " {'City': 'Kapaa', 'Lat': 22.0752, 'Lng': -159.319},\n",
       " {'City': 'Hilo', 'Lat': 19.7297, 'Lng': -155.09},\n",
       " {'City': 'Bengkulu', 'Lat': -3.8004, 'Lng': 102.2655},\n",
       " {'City': 'Anlu', 'Lat': 31.1661, 'Lng': 112.5831},\n",
       " {'City': 'Kampot', 'Lat': 10.6167, 'Lng': 104.1833},\n",
       " {'City': 'Nador', 'Lat': 35.174, 'Lng': -2.9287},\n",
       " {'City': 'Arraial Do Cabo', 'Lat': -22.9661, 'Lng': -42.0278},\n",
       " {'City': 'Bredasdorp', 'Lat': -34.5322, 'Lng': 20.0403},\n",
       " {'City': 'Birao', 'Lat': 10.2849, 'Lng': 22.7882},\n",
       " {'City': 'Bluff', 'Lat': -46.6, 'Lng': 168.3333},\n",
       " {'City': 'Malanje', 'Lat': -9.5402, 'Lng': 16.341},\n",
       " {'City': 'Alamogordo', 'Lat': 32.8995, 'Lng': -105.9603},\n",
       " {'City': 'Ahipara', 'Lat': -35.1667, 'Lng': 173.1667},\n",
       " {'City': 'Pauini', 'Lat': -7.7136, 'Lng': -66.9764},\n",
       " {'City': 'Sulangan', 'Lat': 11.1373, 'Lng': 123.7228},\n",
       " {'City': 'Lianran', 'Lat': 24.9227, 'Lng': 102.485},\n",
       " {'City': 'Hermanus', 'Lat': -34.4187, 'Lng': 19.2345},\n",
       " {'City': 'San Lorenzo', 'Lat': -25.3333, 'Lng': -57.5333},\n",
       " {'City': 'Qidong', 'Lat': 31.8128, 'Lng': 121.6561},\n",
       " {'City': 'Ovalle', 'Lat': -30.5983, 'Lng': -71.2003},\n",
       " {'City': 'Hithadhoo', 'Lat': -0.6, 'Lng': 73.0833},\n",
       " {'City': 'Gizo', 'Lat': -8.103, 'Lng': 156.8419},\n",
       " {'City': 'Saint George', 'Lat': 37.1041, 'Lng': -113.5841},\n",
       " {'City': 'Aracatuba', 'Lat': -21.2089, 'Lng': -50.4328},\n",
       " {'City': 'Tucuman', 'Lat': -26.8241, 'Lng': -65.2226},\n",
       " {'City': 'Mongo', 'Lat': 12.1844, 'Lng': 18.693},\n",
       " {'City': 'Nikolskoye', 'Lat': 59.7035, 'Lng': 30.7861},\n",
       " {'City': 'Salalah', 'Lat': 17.0151, 'Lng': 54.0924},\n",
       " {'City': 'Taitung', 'Lat': 22.7583, 'Lng': 121.1444}]"
      ]
     },
     "execution_count": 27,
     "metadata": {},
     "output_type": "execute_result"
    }
   ],
   "source": [
    "city_data"
   ]
  },
  {
   "cell_type": "code",
   "execution_count": 30,
   "id": "4a17ca5d",
   "metadata": {},
   "outputs": [
    {
     "data": {
      "text/html": [
       "<div>\n",
       "<style scoped>\n",
       "    .dataframe tbody tr th:only-of-type {\n",
       "        vertical-align: middle;\n",
       "    }\n",
       "\n",
       "    .dataframe tbody tr th {\n",
       "        vertical-align: top;\n",
       "    }\n",
       "\n",
       "    .dataframe thead th {\n",
       "        text-align: right;\n",
       "    }\n",
       "</style>\n",
       "<table border=\"1\" class=\"dataframe\">\n",
       "  <thead>\n",
       "    <tr style=\"text-align: right;\">\n",
       "      <th></th>\n",
       "      <th>City</th>\n",
       "      <th>Lat</th>\n",
       "      <th>Lng</th>\n",
       "    </tr>\n",
       "  </thead>\n",
       "  <tbody>\n",
       "    <tr>\n",
       "      <th>0</th>\n",
       "      <td>Hobart</td>\n",
       "      <td>-42.8794</td>\n",
       "      <td>147.3294</td>\n",
       "    </tr>\n",
       "    <tr>\n",
       "      <th>1</th>\n",
       "      <td>Catamarca</td>\n",
       "      <td>-28.4696</td>\n",
       "      <td>-65.7852</td>\n",
       "    </tr>\n",
       "    <tr>\n",
       "      <th>2</th>\n",
       "      <td>Khorramshahr</td>\n",
       "      <td>30.4397</td>\n",
       "      <td>48.1664</td>\n",
       "    </tr>\n",
       "    <tr>\n",
       "      <th>3</th>\n",
       "      <td>Kavaratti</td>\n",
       "      <td>10.5669</td>\n",
       "      <td>72.6420</td>\n",
       "    </tr>\n",
       "    <tr>\n",
       "      <th>4</th>\n",
       "      <td>Caravelas</td>\n",
       "      <td>-17.7125</td>\n",
       "      <td>-39.2481</td>\n",
       "    </tr>\n",
       "    <tr>\n",
       "      <th>5</th>\n",
       "      <td>Punta Arenas</td>\n",
       "      <td>-53.1500</td>\n",
       "      <td>-70.9167</td>\n",
       "    </tr>\n",
       "    <tr>\n",
       "      <th>6</th>\n",
       "      <td>Ushuaia</td>\n",
       "      <td>-54.8000</td>\n",
       "      <td>-68.3000</td>\n",
       "    </tr>\n",
       "    <tr>\n",
       "      <th>7</th>\n",
       "      <td>Busselton</td>\n",
       "      <td>-33.6500</td>\n",
       "      <td>115.3333</td>\n",
       "    </tr>\n",
       "    <tr>\n",
       "      <th>8</th>\n",
       "      <td>Necochea</td>\n",
       "      <td>-38.5473</td>\n",
       "      <td>-58.7368</td>\n",
       "    </tr>\n",
       "    <tr>\n",
       "      <th>9</th>\n",
       "      <td>Albany</td>\n",
       "      <td>42.6001</td>\n",
       "      <td>-73.9662</td>\n",
       "    </tr>\n",
       "  </tbody>\n",
       "</table>\n",
       "</div>"
      ],
      "text/plain": [
       "           City      Lat       Lng\n",
       "0        Hobart -42.8794  147.3294\n",
       "1     Catamarca -28.4696  -65.7852\n",
       "2  Khorramshahr  30.4397   48.1664\n",
       "3     Kavaratti  10.5669   72.6420\n",
       "4     Caravelas -17.7125  -39.2481\n",
       "5  Punta Arenas -53.1500  -70.9167\n",
       "6       Ushuaia -54.8000  -68.3000\n",
       "7     Busselton -33.6500  115.3333\n",
       "8      Necochea -38.5473  -58.7368\n",
       "9        Albany  42.6001  -73.9662"
      ]
     },
     "execution_count": 30,
     "metadata": {},
     "output_type": "execute_result"
    }
   ],
   "source": [
    "# Convert the array of dictionaries to a Pandas DataFrame.\n",
    "city_data_df = pd.DataFrame(city_data)\n",
    "city_data_df.head(10) "
   ]
  },
  {
   "cell_type": "code",
   "execution_count": 32,
   "id": "ddf29bf7",
   "metadata": {},
   "outputs": [],
   "source": [
    "city_data_df.to_csv(r'lat_lng.csv', encoding='utf-8', index=False) "
   ]
  },
  {
   "cell_type": "code",
   "execution_count": null,
   "id": "76723b22",
   "metadata": {},
   "outputs": [],
   "source": []
  }
 ],
 "metadata": {
  "kernelspec": {
   "display_name": "PythonData",
   "language": "python",
   "name": "pythondata"
  },
  "language_info": {
   "codemirror_mode": {
    "name": "ipython",
    "version": 3
   },
   "file_extension": ".py",
   "mimetype": "text/x-python",
   "name": "python",
   "nbconvert_exporter": "python",
   "pygments_lexer": "ipython3",
   "version": "3.9.4"
  }
 },
 "nbformat": 4,
 "nbformat_minor": 5
}
